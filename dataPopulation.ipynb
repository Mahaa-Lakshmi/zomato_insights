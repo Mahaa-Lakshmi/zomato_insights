{
 "cells": [
  {
   "cell_type": "code",
   "execution_count": 1,
   "metadata": {},
   "outputs": [],
   "source": [
    "import mysql.connector as db\n",
    "import pandas as pd\n",
    "from faker import Faker\n",
    "import random\n",
    "from datetime import timedelta"
   ]
  },
  {
   "cell_type": "code",
   "execution_count": 3,
   "metadata": {},
   "outputs": [],
   "source": [
    "# Create connection\n",
    "cnx = db.connect(\n",
    "    host=\"localhost\",\n",
    "    port=3306,\n",
    "    user=\"root\",\n",
    "    password=\"root\"\n",
    ")\n",
    "\n",
    "db_curr = cnx.cursor()\n",
    "\n",
    "# Create database if it doesn't exist\n",
    "db_curr.execute(\"CREATE DATABASE IF NOT EXISTS zomato\")\n",
    "\n",
    "# Connect to the database\n",
    "cnx = db.connect(\n",
    "    host=\"localhost\",\n",
    "    port=3306,\n",
    "    user=\"root\",\n",
    "    password=\"root\",\n",
    "    database=\"zomato\",\n",
    "    autocommit=True\n",
    ")\n",
    "\n",
    "db_curr = cnx.cursor()"
   ]
  },
  {
   "cell_type": "markdown",
   "metadata": {},
   "source": [
    "Table creations"
   ]
  },
  {
   "cell_type": "code",
   "execution_count": 4,
   "metadata": {},
   "outputs": [
    {
     "name": "stdout",
     "output_type": "stream",
     "text": [
      "[('customer_id', 'int', 'NO', 'PRI', None, 'auto_increment'), ('name', 'varchar(50)', 'NO', '', None, ''), ('email', 'varchar(50)', 'NO', 'UNI', None, ''), ('phone', 'varchar(15)', 'NO', 'UNI', None, ''), ('location', 'varchar(100)', 'NO', '', None, ''), ('signup_date', 'date', 'NO', '', None, ''), ('is_premium', 'tinyint(1)', 'NO', '', None, ''), ('preferred_cuisine', 'varchar(15)', 'NO', '', None, ''), ('total_orders', 'int', 'NO', '', '0', ''), ('average_rating', 'int', 'NO', '', None, '')]\n"
     ]
    }
   ],
   "source": [
    "db_curr.execute(\"\"\"CREATE TABLE customers (\n",
    "    customer_id INT PRIMARY KEY AUTO_INCREMENT,\n",
    "    name VARCHAR(50) NOT NULL,\n",
    "    email VARCHAR(50) NOT NULL UNIQUE,\n",
    "    phone VARCHAR(15) NOT NULL UNIQUE,\n",
    "    location VARCHAR(100) NOT NULL,\n",
    "    signup_date DATE NOT NULL,\n",
    "    is_premium BOOLEAN NOT NULL,\n",
    "    preferred_cuisine VARCHAR(15) NOT NULL,\n",
    "    total_orders INT NOT NULL DEFAULT 0,\n",
    "    average_rating INT NOT NULL\n",
    ");\"\"\")\n",
    "db_curr.execute(\"\"\"DESC customers;\"\"\")\n",
    "print(db_curr.fetchall())"
   ]
  },
  {
   "cell_type": "code",
   "execution_count": 5,
   "metadata": {},
   "outputs": [
    {
     "name": "stdout",
     "output_type": "stream",
     "text": [
      "[('restaurant_id', 'varchar(20)', 'NO', 'PRI', None, ''), ('name', 'varchar(50)', 'NO', '', None, ''), ('contact_number', 'varchar(15)', 'NO', 'UNI', None, ''), ('location', 'varchar(100)', 'NO', '', None, ''), ('owner_name', 'varchar(50)', 'NO', '', None, ''), ('average_delivery_time', 'int', 'NO', '', None, ''), ('is_active', 'tinyint(1)', 'NO', '', None, ''), ('cuisine_type', 'varchar(15)', 'NO', '', None, ''), ('total_orders', 'int', 'NO', '', '0', ''), ('rating', 'int', 'NO', '', None, '')]\n"
     ]
    }
   ],
   "source": [
    "db_curr.execute(\"\"\"CREATE TABLE restaurants (\n",
    "    restaurant_id VARCHAR(20) PRIMARY KEY,\n",
    "    name VARCHAR(50) NOT NULL,\n",
    "    contact_number VARCHAR(15) NOT NULL UNIQUE,\n",
    "    location VARCHAR(100) NOT NULL,\n",
    "    owner_name VARCHAR(50) NOT NULL,\n",
    "    average_delivery_time INT NOT NULL CHECK (average_delivery_time > 0),\n",
    "    is_active BOOLEAN NOT NULL,\n",
    "    cuisine_type VARCHAR(15) NOT NULL,\n",
    "    total_orders INT NOT NULL DEFAULT 0,\n",
    "    rating INT NOT NULL\n",
    ");\"\"\")\n",
    "db_curr.execute(\"\"\"DESC restaurants;\"\"\")\n",
    "print(db_curr.fetchall())"
   ]
  },
  {
   "cell_type": "code",
   "execution_count": 8,
   "metadata": {},
   "outputs": [
    {
     "name": "stdout",
     "output_type": "stream",
     "text": [
      "[('order_id', 'int', 'NO', 'PRI', None, 'auto_increment'), ('customer_id', 'int', 'NO', 'MUL', None, ''), ('restaurant_id', 'varchar(20)', 'YES', 'MUL', None, ''), ('order_date', 'datetime', 'NO', '', None, ''), ('delivery_time', 'datetime', 'NO', '', None, ''), ('status', 'varchar(15)', 'NO', '', None, ''), ('total_amount', 'float', 'NO', '', None, ''), ('payment_mode', 'varchar(15)', 'YES', '', None, ''), ('discount_applied', 'float', 'NO', '', '0', ''), ('feedback_rating', 'int', 'NO', '', None, '')]\n"
     ]
    }
   ],
   "source": [
    "db_curr.execute(\"\"\"CREATE TABLE orders (\n",
    "    order_id INT PRIMARY KEY AUTO_INCREMENT,\n",
    "    customer_id INT NOT NULL,\n",
    "    restaurant_id VARCHAR(20),\n",
    "    order_date DATETIME NOT NULL,\n",
    "    delivery_time DATETIME NOT NULL,\n",
    "    status VARCHAR(15) NOT NULL,\n",
    "    total_amount FLOAT NOT NULL,\n",
    "    payment_mode VARCHAR(15),\n",
    "    discount_applied FLOAT NOT NULL DEFAULT 0,\n",
    "    feedback_rating INT NOT NULL,\n",
    "    FOREIGN KEY (customer_id) REFERENCES customers(customer_id) ON DELETE CASCADE,\n",
    "    FOREIGN KEY (restaurant_id) REFERENCES restaurants(restaurant_id) ON DELETE SET NULL\n",
    ");\"\"\")\n",
    "db_curr.execute(\"\"\"DESC orders;\"\"\")\n",
    "print(db_curr.fetchall())"
   ]
  },
  {
   "cell_type": "code",
   "execution_count": 9,
   "metadata": {},
   "outputs": [
    {
     "name": "stdout",
     "output_type": "stream",
     "text": [
      "[('delivery_person_id', 'int', 'NO', 'PRI', None, 'auto_increment'), ('name', 'varchar(50)', 'NO', '', None, ''), ('contact_number', 'varchar(15)', 'NO', 'UNI', None, ''), ('vehicle_type', 'varchar(20)', 'YES', '', None, ''), ('total_deliveries', 'int', 'NO', '', '0', ''), ('average_rating', 'int', 'NO', '', None, ''), ('location', 'varchar(100)', 'NO', '', None, '')]\n"
     ]
    }
   ],
   "source": [
    "db_curr.execute(\"\"\"CREATE TABLE delivery_persons (\n",
    "    delivery_person_id INT PRIMARY KEY AUTO_INCREMENT,\n",
    "    name VARCHAR(50) NOT NULL,\n",
    "    contact_number VARCHAR(15) NOT NULL UNIQUE,\n",
    "    vehicle_type VARCHAR(20),\n",
    "    total_deliveries INT NOT NULL DEFAULT 0,\n",
    "    average_rating INT NOT NULL,\n",
    "    location VARCHAR(100) NOT NULL\n",
    ");\"\"\")\n",
    "db_curr.execute(\"\"\"DESC delivery_persons;\"\"\")\n",
    "print(db_curr.fetchall())"
   ]
  },
  {
   "cell_type": "code",
   "execution_count": 10,
   "metadata": {},
   "outputs": [
    {
     "name": "stdout",
     "output_type": "stream",
     "text": [
      "[('delivery_person_id', 'int', 'NO', 'PRI', None, 'auto_increment'), ('name', 'varchar(50)', 'NO', '', None, ''), ('contact_number', 'varchar(15)', 'NO', 'UNI', None, ''), ('vehicle_type', 'varchar(20)', 'YES', '', None, ''), ('total_deliveries', 'int', 'NO', '', '0', ''), ('average_rating', 'int', 'NO', '', None, ''), ('location', 'varchar(100)', 'NO', '', None, '')]\n"
     ]
    }
   ],
   "source": [
    "db_curr.execute(\"\"\"CREATE TABLE deliveries (\n",
    "    delivery_id INT PRIMARY KEY AUTO_INCREMENT,\n",
    "    order_id INT NOT NULL,\n",
    "    delivery_person_id INT,\n",
    "    delivery_status VARCHAR(15) NOT NULL,\n",
    "    distance INT NOT NULL CHECK (distance > 0),\n",
    "    delivery_time INT NOT NULL,\n",
    "    estimated_time INT NOT NULL,\n",
    "    delivery_fee INT NOT NULL,\n",
    "    vehicle_type VARCHAR(20) NOT NULL,\n",
    "    FOREIGN KEY (order_id) REFERENCES orders(order_id) ON DELETE CASCADE,\n",
    "    FOREIGN KEY (delivery_person_id) REFERENCES delivery_persons(delivery_person_id) ON DELETE SET NULL\n",
    ")\"\"\")\n",
    "db_curr.execute(\"\"\"DESC delivery_persons;\"\"\")\n",
    "print(db_curr.fetchall())"
   ]
  },
  {
   "cell_type": "markdown",
   "metadata": {},
   "source": [
    "Data Population using Faker"
   ]
  },
  {
   "cell_type": "code",
   "execution_count": 13,
   "metadata": {},
   "outputs": [],
   "source": [
    "# Insert data into tables\n",
    "fake = Faker()\n",
    "\n",
    "num_of_rows=100\n",
    "\n",
    "def insert_into_DB(table_name, dict_values):\n",
    "    columns = \", \".join(dict_values.keys())\n",
    "    placeholders = \", \".join([\"%s\"] * len(dict_values))\n",
    "    sql_query = f\"INSERT INTO {table_name} ({columns}) VALUES ({placeholders})\"\n",
    "    values = tuple(dict_values.values())\n",
    "    try:\n",
    "        db_curr.execute(sql_query, values)\n",
    "        cnx.commit()\n",
    "        #print(\"Order inserted successfully!\")\n",
    "    except db.Error as err:\n",
    "        print(f\"Error: {err}\")\n",
    "        cnx.rollback()\n",
    "    "
   ]
  },
  {
   "cell_type": "code",
   "execution_count": 12,
   "metadata": {},
   "outputs": [
    {
     "name": "stdout",
     "output_type": "stream",
     "text": [
      "Order inserted successfully!\n",
      "Order inserted successfully!\n",
      "Order inserted successfully!\n",
      "Order inserted successfully!\n",
      "Order inserted successfully!\n",
      "Order inserted successfully!\n",
      "Order inserted successfully!\n",
      "Order inserted successfully!\n",
      "Order inserted successfully!\n",
      "Order inserted successfully!\n",
      "Order inserted successfully!\n",
      "Order inserted successfully!\n",
      "Order inserted successfully!\n",
      "Order inserted successfully!\n",
      "Order inserted successfully!\n",
      "Order inserted successfully!\n",
      "Order inserted successfully!\n",
      "Order inserted successfully!\n",
      "Order inserted successfully!\n",
      "Order inserted successfully!\n",
      "Order inserted successfully!\n",
      "Order inserted successfully!\n",
      "Order inserted successfully!\n",
      "Order inserted successfully!\n",
      "Order inserted successfully!\n",
      "Order inserted successfully!\n",
      "Order inserted successfully!\n",
      "Order inserted successfully!\n",
      "Order inserted successfully!\n",
      "Order inserted successfully!\n",
      "Order inserted successfully!\n",
      "Order inserted successfully!\n",
      "Order inserted successfully!\n",
      "Order inserted successfully!\n",
      "Order inserted successfully!\n",
      "Order inserted successfully!\n",
      "Order inserted successfully!\n",
      "Order inserted successfully!\n",
      "Order inserted successfully!\n",
      "Order inserted successfully!\n",
      "Order inserted successfully!\n",
      "Order inserted successfully!\n",
      "Order inserted successfully!\n",
      "Order inserted successfully!\n",
      "Order inserted successfully!\n",
      "Order inserted successfully!\n",
      "Order inserted successfully!\n",
      "Order inserted successfully!\n",
      "Order inserted successfully!\n",
      "Order inserted successfully!\n",
      "Order inserted successfully!\n",
      "Order inserted successfully!\n",
      "Order inserted successfully!\n",
      "Order inserted successfully!\n",
      "Order inserted successfully!\n",
      "Order inserted successfully!\n",
      "Order inserted successfully!\n",
      "Order inserted successfully!\n",
      "Order inserted successfully!\n",
      "Order inserted successfully!\n",
      "Order inserted successfully!\n",
      "Order inserted successfully!\n",
      "Order inserted successfully!\n",
      "Order inserted successfully!\n",
      "Order inserted successfully!\n",
      "Order inserted successfully!\n",
      "Order inserted successfully!\n",
      "Order inserted successfully!\n",
      "Order inserted successfully!\n",
      "Order inserted successfully!\n",
      "Order inserted successfully!\n",
      "Order inserted successfully!\n",
      "Order inserted successfully!\n",
      "Order inserted successfully!\n",
      "Order inserted successfully!\n",
      "Order inserted successfully!\n",
      "Order inserted successfully!\n",
      "Order inserted successfully!\n",
      "Order inserted successfully!\n",
      "Order inserted successfully!\n",
      "Order inserted successfully!\n",
      "Order inserted successfully!\n",
      "Order inserted successfully!\n",
      "Order inserted successfully!\n",
      "Order inserted successfully!\n",
      "Order inserted successfully!\n",
      "Order inserted successfully!\n",
      "Order inserted successfully!\n",
      "Order inserted successfully!\n",
      "Order inserted successfully!\n",
      "Order inserted successfully!\n",
      "Order inserted successfully!\n",
      "Order inserted successfully!\n",
      "Order inserted successfully!\n",
      "Order inserted successfully!\n",
      "Order inserted successfully!\n",
      "Order inserted successfully!\n",
      "Order inserted successfully!\n",
      "Order inserted successfully!\n",
      "Order inserted successfully!\n"
     ]
    }
   ],
   "source": [
    "# Insert into customers table\n",
    "for _ in range(num_of_rows):\n",
    "    customer = {\n",
    "        \"customer_id\": fake.unique.random_int(min=111111, max=999999),\n",
    "        \"name\": fake.name(),\n",
    "        \"email\": f\"{fake.first_name().lower()}.{fake.last_name().lower()}@{fake.free_email_domain()}\",\n",
    "        \"phone\": f\"{random.choice(['+1', '+44', '+91', '+61', '+81', '+49', '+33', '+55', '+86', '+7'])} {fake.numerify('##########')}\",\n",
    "        \"location\": fake.address(),\n",
    "        \"signup_date\": fake.date_between(start_date='-2y', end_date='today'),\n",
    "        \"is_premium\": random.choice([True, False]),\n",
    "        \"preferred_cuisine\": random.choice([\"Mexican\", \"Indian\", \"Italian\", \"American\", \"Japanese\", \"Thai\", \"French\"]),\n",
    "        \"total_orders\": fake.random_int(min=0, max=12),\n",
    "        \"average_rating\": fake.random_int(min=1, max=5)\n",
    "    }\n",
    "    insert_into_DB(\"customers\", customer)"
   ]
  },
  {
   "cell_type": "code",
   "execution_count": 14,
   "metadata": {},
   "outputs": [],
   "source": [
    "# Insert into restaurants table\n",
    "for _ in range(num_of_rows):\n",
    "    restaurant = {\n",
    "        \"restaurant_id\": ''.join(fake.random_letters(length=3)).upper() + str(fake.unique.random_int(min=111111, max=999999)),\n",
    "        \"name\": fake.company(),\n",
    "        \"cuisine_type\": random.choice([\"Mexican\", \"Indian\", \"Italian\", \"American\", \"Japanese\", \"Thai\", \"French\"]),\n",
    "        \"location\": fake.address(),\n",
    "        \"owner_name\": fake.name(),\n",
    "        \"average_delivery_time\": fake.random_int(min=10, max=90),\n",
    "        \"contact_number\": f\"{random.choice(['+1', '+44', '+91', '+61', '+81', '+49', '+33', '+55', '+86', '+7'])}{fake.numerify('##########')}\",\n",
    "        \"rating\": fake.random_int(min=1, max=5),\n",
    "        \"total_orders\": fake.random_int(min=0, max=50),\n",
    "        \"is_active\": random.choice([True, False])\n",
    "    }\n",
    "    insert_into_DB(\"restaurants\", restaurant)"
   ]
  },
  {
   "cell_type": "code",
   "execution_count": 15,
   "metadata": {},
   "outputs": [],
   "source": [
    "# Insert into orders table\n",
    "db_curr.execute(\"SELECT customer_id FROM customers;\")\n",
    "customers = [row[0] for row in db_curr.fetchall()]\n",
    "db_curr.execute(\"SELECT restaurant_id FROM restaurants;\")\n",
    "restaurants = [row[0] for row in db_curr.fetchall()]\n",
    "\n",
    "for _ in range(num_of_rows):\n",
    "    order_date = fake.date_time_between(start_date='-20y')\n",
    "    total_amount = fake.random_number(digits=5, fix_len=False)\n",
    "    discount_applied = total_amount * (fake.random_int(min=0, max=80, step=5) / 100)\n",
    "    order = {\n",
    "        \"order_id\": fake.unique.random_int(min=11111111, max=99999999),\n",
    "        \"customer_id\": random.choice(customers),\n",
    "        \"restaurant_id\": random.choice(restaurants),\n",
    "        \"order_date\": order_date,\n",
    "        \"delivery_time\": order_date + timedelta(days=fake.random_int(min=2, max=5)),\n",
    "        \"status\": random.choice([\"Pending\", \"Delivered\", \"Cancelled\"]),\n",
    "        \"total_amount\": total_amount,\n",
    "        \"payment_mode\": random.choice([\"Credit Card\", \"Cash\", \"UPI\"]),\n",
    "        \"discount_applied\": discount_applied,\n",
    "        \"feedback_rating\": fake.random_int(min=1, max=5)\n",
    "    }\n",
    "    insert_into_DB(\"orders\", order)"
   ]
  },
  {
   "cell_type": "code",
   "execution_count": 16,
   "metadata": {},
   "outputs": [],
   "source": [
    "# Insert into delivery_persons table\n",
    "for _ in range(num_of_rows):\n",
    "    delivery_person = {\n",
    "        \"delivery_person_id\": fake.unique.random_int(min=111111, max=999999),\n",
    "        \"name\": fake.name(),\n",
    "        \"location\": fake.address(),\n",
    "        \"contact_number\": random.choice(['+1', '+44', '+91', '+61', '+81', '+49', '+33', '+55', '+86', '+7']) + fake.numerify('##########'),\n",
    "        \"vehicle_type\": random.choice([\"Bike\", \"Cycle\", \"Scooter\", \"Van\"]),\n",
    "        \"total_deliveries\": random.randint(0, 50),\n",
    "        \"average_rating\": random.randint(1, 5)\n",
    "    }\n",
    "    insert_into_DB(\"delivery_persons\", delivery_person)"
   ]
  },
  {
   "cell_type": "code",
   "execution_count": 17,
   "metadata": {},
   "outputs": [],
   "source": [
    "# Insert into deliveries table\n",
    "db_curr.execute(\"SELECT order_id FROM orders;\")\n",
    "order_ids = [row[0] for row in db_curr.fetchall()]\n",
    "db_curr.execute(\"SELECT delivery_person_id FROM delivery_persons;\")\n",
    "delivery_person_ids = [row[0] for row in db_curr.fetchall()]\n",
    "\n",
    "for _ in range(num_of_rows):\n",
    "    delivery = {\n",
    "        \"delivery_id\": fake.unique.random_int(min=11111111, max=99999999),\n",
    "        \"order_id\": random.choice(order_ids),\n",
    "        \"delivery_person_id\": random.choice(delivery_person_ids),\n",
    "        \"delivery_status\": fake.random_element(elements=[\"On the way\", \"Delivered\"]),\n",
    "        \"distance\": random.randint(2, 10),\n",
    "        \"delivery_time\": random.randint(10, 90),\n",
    "        \"estimated_time\": random.randint(10, 100),\n",
    "        \"delivery_fee\": fake.random_int(min=10, max=40, step=10),\n",
    "        \"vehicle_type\": random.choice([\"Bike\", \"Cycle\", \"Scooter\", \"Van\"])\n",
    "    }\n",
    "    insert_into_DB(\"deliveries\", delivery)"
   ]
  },
  {
   "cell_type": "code",
   "execution_count": 18,
   "metadata": {},
   "outputs": [
    {
     "name": "stdout",
     "output_type": "stream",
     "text": [
      "Database connection closed.\n"
     ]
    }
   ],
   "source": [
    "db_curr.close()\n",
    "cnx.close()\n",
    "print(\"Database connection closed.\")"
   ]
  }
 ],
 "metadata": {
  "kernelspec": {
   "display_name": "venv",
   "language": "python",
   "name": "python3"
  },
  "language_info": {
   "codemirror_mode": {
    "name": "ipython",
    "version": 3
   },
   "file_extension": ".py",
   "mimetype": "text/x-python",
   "name": "python",
   "nbconvert_exporter": "python",
   "pygments_lexer": "ipython3",
   "version": "3.12.7"
  }
 },
 "nbformat": 4,
 "nbformat_minor": 2
}
